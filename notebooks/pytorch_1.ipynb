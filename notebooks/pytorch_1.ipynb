{
 "cells": [
  {
   "cell_type": "code",
   "execution_count": null,
   "metadata": {},
   "outputs": [],
   "source": [
    "# This Python 3 environment comes with many helpful analytics libraries installed\n",
    "# It is defined by the kaggle/python docker image: https://github.com/kaggle/docker-python\n",
    "# For example, here's several helpful packages to load in \n",
    "%matplotlib inline\n",
    "import matplotlib.pyplot as plt\n",
    "import numpy as np\n",
    "import pandas as pd\n",
    "import torch\n",
    "from torch import nn\n",
    "import torch.nn.functional as F\n",
    "from torch.autograd import Variable\n",
    "from torch.optim import Adam\n",
    "from torch.utils.data import TensorDataset, DataLoader\n",
    "from tqdm import tqdm_notebook\n",
    "# import seaborn as sns"
   ]
  },
  {
   "cell_type": "code",
   "execution_count": null,
   "metadata": {},
   "outputs": [],
   "source": []
  },
  {
   "cell_type": "code",
   "execution_count": null,
   "metadata": {},
   "outputs": [],
   "source": [
    "data = pd.read_json('../input/train.json')\n",
    "test = pd.read_json('../input/test.json')"
   ]
  },
  {
   "cell_type": "code",
   "execution_count": null,
   "metadata": {},
   "outputs": [],
   "source": [
    "data.head()"
   ]
  },
  {
   "cell_type": "code",
   "execution_count": null,
   "metadata": {},
   "outputs": [],
   "source": []
  },
  {
   "cell_type": "code",
   "execution_count": null,
   "metadata": {},
   "outputs": [],
   "source": [
    "data['band_1'] = data['band_1'].apply(lambda x: np.array(x).reshape(75, 75))\n",
    "data['band_2'] = data['band_2'].apply(lambda x: np.array(x).reshape(75, 75))\n",
    "test['band_1'] = test['band_1'].apply(lambda x: np.array(x).reshape(75, 75))\n",
    "test['band_2'] = test['band_2'].apply(lambda x: np.array(x).reshape(75, 75))\n",
    "\n",
    "data['inc_angle'] = pd.to_numeric(data['inc_angle'], errors='coerce')\n",
    "test['inc_angle'] = pd.to_numeric(test['inc_angle'], errors='coerce')\n",
    "\n",
    "train = data.sample(frac=0.8)\n",
    "val = data[~data.isin(train)].dropna()"
   ]
  },
  {
   "cell_type": "code",
   "execution_count": null,
   "metadata": {},
   "outputs": [],
   "source": []
  },
  {
   "cell_type": "code",
   "execution_count": null,
   "metadata": {},
   "outputs": [],
   "source": []
  },
  {
   "cell_type": "code",
   "execution_count": null,
   "metadata": {},
   "outputs": [],
   "source": [
    "def plot_sample(df, idx):\n",
    "    c = ('Not Hotdog', 'Hotdog')\n",
    "    f, ((ax1, ax2), (ax3, ax4)) = plt.subplots(2, 2)\n",
    "    ax1.imshow(df['band_1'].iloc[idx])\n",
    "    ax2.imshow(df['band_2'].iloc[idx])\n",
    "    ax3.hist(df['band_1'].iloc[idx].ravel(), bins=256, fc='k', ec='k');\n",
    "    ax4.hist(df['band_2'].iloc[idx].ravel(), bins=256, fc='k', ec='k');\n",
    "    f.set_figheight(10)\n",
    "    f.set_figwidth(10)\n",
    "    plt.suptitle(c[df['is_iceberg'].iloc[idx]])\n",
    "    plt.show()"
   ]
  },
  {
   "cell_type": "code",
   "execution_count": null,
   "metadata": {},
   "outputs": [],
   "source": [
    "plot_sample(train, 25)"
   ]
  },
  {
   "cell_type": "code",
   "execution_count": null,
   "metadata": {},
   "outputs": [],
   "source": []
  },
  {
   "cell_type": "markdown",
   "metadata": {},
   "source": [
    "#### Concat Bands into (N, 2, 75, 75) images"
   ]
  },
  {
   "cell_type": "code",
   "execution_count": null,
   "metadata": {},
   "outputs": [],
   "source": [
    "band_1_tr = np.concatenate([im for im in train['band_1']]).reshape(-1, 75, 75)\n",
    "band_2_tr = np.concatenate([im for im in train['band_2']]).reshape(-1, 75, 75)\n",
    "full_img_tr = np.stack([band_1_tr, band_2_tr], axis=1)\n",
    "\n",
    "band_1_val = np.concatenate([im for im in val['band_1']]).reshape(-1, 75, 75)\n",
    "band_2_val = np.concatenate([im for im in val['band_2']]).reshape(-1, 75, 75)\n",
    "full_img_val = np.stack([band_1_val, band_2_val], axis=1)\n",
    "\n",
    "band_1_test = np.concatenate([im for im in test['band_1']]).reshape(-1, 75, 75)\n",
    "band_2_test = np.concatenate([im for im in test['band_2']]).reshape(-1, 75, 75)\n",
    "full_img_test = np.stack([band_1_test, band_2_test], axis=1)"
   ]
  },
  {
   "cell_type": "code",
   "execution_count": null,
   "metadata": {},
   "outputs": [],
   "source": []
  },
  {
   "cell_type": "code",
   "execution_count": null,
   "metadata": {},
   "outputs": [],
   "source": []
  },
  {
   "cell_type": "code",
   "execution_count": null,
   "metadata": {},
   "outputs": [],
   "source": [
    "class RandomFlip(object):\n",
    "\n",
    "    def __init__(self, h=True, v=False, p=0.5):\n",
    "        \"\"\"\n",
    "        Randomly flip an image horizontally and/or vertically with\n",
    "        some probability.\n",
    "        Arguments\n",
    "        ---------\n",
    "        h : boolean\n",
    "            whether to horizontally flip w/ probability p\n",
    "        v : boolean\n",
    "            whether to vertically flip w/ probability p\n",
    "        p : float between [0,1]\n",
    "            probability with which to apply allowed flipping operations\n",
    "        \"\"\"\n",
    "        self.horizontal = h\n",
    "        self.vertical = v\n",
    "        self.p = p\n",
    "\n",
    "    def __call__(self, x, y=None):\n",
    "        x = x.numpy()\n",
    "        if y is not None:\n",
    "            y = y.numpy()\n",
    "        # horizontal flip with p = self.p\n",
    "        if self.horizontal:\n",
    "            if random.random() < self.p:\n",
    "                x = x.swapaxes(2, 0)\n",
    "                x = x[::-1, ...]\n",
    "                x = x.swapaxes(0, 2)\n",
    "                if y is not None:\n",
    "                    y = y.swapaxes(2, 0)\n",
    "                    y = y[::-1, ...]\n",
    "                    y = y.swapaxes(0, 2)\n",
    "        # vertical flip with p = self.p\n",
    "        if self.vertical:\n",
    "            if random.random() < self.p:\n",
    "                x = x.swapaxes(1, 0)\n",
    "                x = x[::-1, ...]\n",
    "                x = x.swapaxes(0, 1)\n",
    "                if y is not None:\n",
    "                    y = y.swapaxes(1, 0)\n",
    "                    y = y[::-1, ...]\n",
    "                    y = y.swapaxes(0, 1)\n",
    "        if y is None:\n",
    "            # must copy because torch doesnt current support neg strides\n",
    "            return th.from_numpy(x.copy())\n",
    "        else:\n",
    "            return th.from_numpy(x.copy()),th.from_numpy(y.copy())"
   ]
  },
  {
   "cell_type": "code",
   "execution_count": null,
   "metadata": {},
   "outputs": [],
   "source": [
    "from torchvision import transforms"
   ]
  },
  {
   "cell_type": "code",
   "execution_count": null,
   "metadata": {},
   "outputs": [],
   "source": [
    "composed = transforms.Compose([\n",
    "    transforms.RandomHorizontalFlip,\n",
    "    transforms.RandomVerticalFlip\n",
    "])"
   ]
  },
  {
   "cell_type": "code",
   "execution_count": null,
   "metadata": {},
   "outputs": [],
   "source": []
  },
  {
   "cell_type": "code",
   "execution_count": null,
   "metadata": {},
   "outputs": [],
   "source": []
  },
  {
   "cell_type": "markdown",
   "metadata": {},
   "source": [
    "#### dataloader"
   ]
  },
  {
   "cell_type": "code",
   "execution_count": null,
   "metadata": {},
   "outputs": [],
   "source": [
    "train_imgs = torch.from_numpy(full_img_tr).float()\n",
    "train_targets = torch.from_numpy(train['is_iceberg'].values).long()\n",
    "train_dataset = TensorDataset(train_imgs, train_targets)\n",
    "\n",
    "val_imgs = torch.from_numpy(full_img_val).float()\n",
    "val_targets = torch.from_numpy(val['is_iceberg'].values).long()\n",
    "val_dataset = TensorDataset(val_imgs, val_targets)\n",
    "\n",
    "\n",
    "test_imgs  = torch.from_numpy(full_img_test).float()"
   ]
  },
  {
   "cell_type": "code",
   "execution_count": null,
   "metadata": {},
   "outputs": [],
   "source": [
    "train_dataset[0]"
   ]
  },
  {
   "cell_type": "code",
   "execution_count": null,
   "metadata": {},
   "outputs": [],
   "source": []
  },
  {
   "cell_type": "code",
   "execution_count": null,
   "metadata": {},
   "outputs": [],
   "source": []
  },
  {
   "cell_type": "code",
   "execution_count": null,
   "metadata": {},
   "outputs": [],
   "source": [
    "# utils \n",
    "class AverageMeter(object):\n",
    "    \"\"\"Computes and stores the average and current value\"\"\"\n",
    "\n",
    "    def __init__(self, window_size=None):\n",
    "        self.length = 0\n",
    "        self.val = 0\n",
    "        self.avg = 0\n",
    "        self.sum = 0\n",
    "        self.count = 0\n",
    "        self.window_size = window_size\n",
    "\n",
    "    def reset(self):\n",
    "        self.length = 0\n",
    "        self.val = 0\n",
    "        self.avg = 0\n",
    "        self.sum = 0\n",
    "        self.count = 0\n",
    "\n",
    "    def update(self, val, n=1):\n",
    "        if self.window_size and (self.count >= self.window_size):\n",
    "            self.reset()\n",
    "        self.val = val\n",
    "        self.sum += val * n\n",
    "        self.count += n\n",
    "        self.avg = self.sum / self.count\n",
    "        \n",
    "def accuracy(y_true, y_pred):\n",
    "    y_true = y_true.float()\n",
    "    _, y_pred = torch.max(y_pred, dim=-1)\n",
    "    return (y_pred.float() == y_true).float().mean()\n",
    "    \n",
    "def fit(train, val, epochs, batch_size):\n",
    "    print('train on {} images validate on {} images'.format(len(train), len(val)))\n",
    "    net.train()\n",
    "    train_loader = DataLoader(train, batch_size=batch_size, shuffle=True)\n",
    "    val_loader = DataLoader(val, batch_size=batch_size, shuffle=False)\n",
    "    for epoch in tqdm_notebook(range(epochs), total=epochs):\n",
    "        running_loss = AverageMeter()\n",
    "        running_accuracy = AverageMeter()\n",
    "        val_loss_meter = AverageMeter()\n",
    "        val_acc_meter = AverageMeter()\n",
    "        pbar = tqdm_notebook(train_loader, total=len(train_loader))\n",
    "        for data, target in pbar:\n",
    "            data, target = Variable(data), Variable(target)\n",
    "            output = net(data)\n",
    "            loss = criterion(output, target)\n",
    "            acc = accuracy(target.data, output.data)\n",
    "            running_loss.update(loss.data[0])\n",
    "            running_accuracy.update(acc)\n",
    "            pbar.set_description(\"[ loss: {:.4f} | acc: {:.4f} ] \".format(\n",
    "                running_loss.avg, running_accuracy.avg))\n",
    "            optimizer.zero_grad()\n",
    "            loss.backward()\n",
    "            optimizer.step()\n",
    "        print(\"[ loss: {:.4f} | acc: {:.4f} ] \".format(running_loss.avg, running_accuracy.avg))\n",
    "        for val_data, val_target in val_loader:\n",
    "            val_data, val_target = Variable(val_data), Variable(val_target)\n",
    "            output = net(val_data)\n",
    "            val_loss = criterion(output, val_target)\n",
    "            val_acc = accuracy(val_target.data, output.data)\n",
    "            val_loss_meter.update(val_loss.data[0])\n",
    "            val_acc_meter.update(val_acc)\n",
    "        pbar.set_description(\"[ loss: {:.4f} | acc: {:.4f} | vloss: {:.4f} | vacc: {:.4f} ] \".format(\n",
    "        running_loss.avg, running_accuracy.avg, val_loss_meter.avg, val_acc_meter.avg))\n",
    "        print(\"[ loss: {:.4f} | acc: {:.4f} | vloss: {:.4f} | vacc: {:.4f} ] \".format(\n",
    "        running_loss.avg, running_accuracy.avg, val_loss_meter.avg, val_acc_meter.avg))"
   ]
  },
  {
   "cell_type": "code",
   "execution_count": null,
   "metadata": {},
   "outputs": [],
   "source": []
  },
  {
   "cell_type": "code",
   "execution_count": null,
   "metadata": {},
   "outputs": [],
   "source": [
    "train.head()"
   ]
  },
  {
   "cell_type": "code",
   "execution_count": null,
   "metadata": {},
   "outputs": [],
   "source": [
    "class Net(nn.Module):\n",
    "    def __init__(self):\n",
    "        super(Net, self).__init__()\n",
    "        self.batch = nn.BatchNorm2d(2)\n",
    "        self.conv1 = nn.Conv2d(2, 32, kernel_size=3, padding=1)\n",
    "        self.pool = nn.MaxPool2d(2, 2)\n",
    "        self.conv2 = nn.Conv2d(32, 64, kernel_size=3, padding=1)\n",
    "        self.fc1 = nn.Linear(64 * 18 * 18, 120)\n",
    "        self.fc2 = nn.Linear(120, 84)\n",
    "        self.fc3 = nn.Linear(84, 2)\n",
    "        self.drp = nn.Dropout(0.2)\n",
    "\n",
    "    def forward(self, x):\n",
    "        x = self.batch(x)\n",
    "        x = self.pool(F.relu(self.conv1(x)))\n",
    "        x = self.drp(x)\n",
    "        x = self.pool(F.relu(self.conv2(x)))\n",
    "        x = self.drp(x)\n",
    "        x = x.view(x.size(0), -1)\n",
    "        x = F.relu(self.fc1(x))\n",
    "#         x = self.drp(x)\n",
    "        x = F.relu(self.fc2(x))\n",
    "        x = self.fc3(x)\n",
    "        return x"
   ]
  },
  {
   "cell_type": "code",
   "execution_count": null,
   "metadata": {},
   "outputs": [],
   "source": [
    "class Net(nn.Module):\n",
    "    def __init__(self):\n",
    "        super(Net, self).__init__()\n",
    "        self.batch = nn.BatchNorm2d(2)\n",
    "        self.conv1 = nn.Conv2d(2, 32, kernel_size=3, padding=1)\n",
    "        self.pool = nn.MaxPool2d(2, 2)\n",
    "        self.conv2 = nn.Conv2d(32, 64, kernel_size=3, padding=1)\n",
    "        self.fc1 = nn.Linear(64 * 18 * 18, 120)\n",
    "        self.fc2 = nn.Linear(120, 84)\n",
    "        self.fc3 = nn.Linear(84, 2)\n",
    "        self.drp = nn.Dropout(0.2)\n",
    "\n",
    "    def forward(self, x):\n",
    "        x = self.batch(x)\n",
    "        x = self.pool(F.relu(self.conv1(x)))\n",
    "        x = self.drp(x)\n",
    "        x = self.pool(F.relu(self.conv2(x)))\n",
    "#         x = self.drp(x)\n",
    "        x = x.view(x.size(0), -1)\n",
    "        x = F.relu(self.fc1(x))\n",
    "#         x = self.drp(x)\n",
    "        x = F.relu(self.fc2(x))\n",
    "        x = self.fc3(x)\n",
    "        return x"
   ]
  },
  {
   "cell_type": "code",
   "execution_count": null,
   "metadata": {},
   "outputs": [],
   "source": [
    "net = Net()"
   ]
  },
  {
   "cell_type": "code",
   "execution_count": null,
   "metadata": {},
   "outputs": [],
   "source": []
  },
  {
   "cell_type": "code",
   "execution_count": null,
   "metadata": {},
   "outputs": [],
   "source": [
    "criterion = nn.CrossEntropyLoss()\n",
    "optimizer = Adam(net.parameters())#, lr=1e3)"
   ]
  },
  {
   "cell_type": "code",
   "execution_count": null,
   "metadata": {},
   "outputs": [],
   "source": [
    "epochs = 6"
   ]
  },
  {
   "cell_type": "code",
   "execution_count": null,
   "metadata": {},
   "outputs": [],
   "source": [
    "# net = Net()"
   ]
  },
  {
   "cell_type": "code",
   "execution_count": null,
   "metadata": {},
   "outputs": [],
   "source": [
    "fit(train_dataset, val_dataset, epochs, 32)"
   ]
  },
  {
   "cell_type": "code",
   "execution_count": null,
   "metadata": {},
   "outputs": [],
   "source": []
  }
 ],
 "metadata": {
  "kernelspec": {
   "display_name": "Python 3",
   "language": "python",
   "name": "python3"
  },
  "language_info": {
   "codemirror_mode": {
    "name": "ipython",
    "version": 3
   },
   "file_extension": ".py",
   "mimetype": "text/x-python",
   "name": "python",
   "nbconvert_exporter": "python",
   "pygments_lexer": "ipython3",
   "version": "3.6.3"
  }
 },
 "nbformat": 4,
 "nbformat_minor": 2
}
